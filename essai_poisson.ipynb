{
 "cells": [
  {
   "cell_type": "markdown",
   "metadata": {},
   "source": [
    "# Equation de Scorer\n",
    "\n",
    "$\\Delta w + l² w = 0$\n",
    "\n",
    "Avec l donné par\n",
    "\n",
    "$l(z)² = \\frac{N²}{u²_0} - \\frac{1}{u_0} \\frac{d²u_0}{dz²}$\n",
    "\n",
    "avec:\n",
    "\n",
    "$u_0(z)$ vitesse horizontale moyenne à l'altitude z\n",
    "\n",
    "$N = \\sqrt{\\frac{g}{\\theta} \\frac{d\\theta}{dz}}$: fréquence de Brunt-Väisälä, avec $\\theta$ température potentielle de l'atmosphère."
   ]
  },
  {
   "cell_type": "code",
   "execution_count": 1,
   "metadata": {},
   "outputs": [],
   "source": [
    "%matplotlib inline"
   ]
  },
  {
   "cell_type": "code",
   "execution_count": 16,
   "metadata": {},
   "outputs": [
    {
     "name": "stdout",
     "output_type": "stream",
     "text": [
      "Calling FFC just-in-time (JIT) compiler, this may take some time.\n",
      "Calling FFC just-in-time (JIT) compiler, this may take some time.\n"
     ]
    }
   ],
   "source": [
    "from dolfin import UnitSquareMesh, FunctionSpace, TrialFunction, \\\n",
    "                   TestFunction, Constant, dot, grad, dx, Function, solve, \\\n",
    "                   SubDomain, DirichletBC, near, XDMFFile, Expression\n",
    "\n",
    "\n",
    "mesh = UnitSquareMesh(100, 100)\n",
    "V = FunctionSpace(mesh, 'P', 1)\n",
    "\n",
    "tol = 1E-14\n",
    "#\"\"\"\n",
    "k_0 = 2.5\n",
    "#k_0 = 5.0\n",
    "k_1 = 0.5\n",
    "kappa = Expression('x[0] <= 0.5 - tol ? k_0 : k_1', degree=0,\n",
    "                   tol=tol, k_0=k_0, k_1=k_1)\n",
    "#\"\"\"\n",
    "#kappa = k_0 = k_1 = 2.5\n",
    "\n",
    "u = TrialFunction(V)\n",
    "v = TestFunction(V)\n",
    "f = Constant(5.0)\n",
    "a = kappa*dot(grad(u), grad(v))*dx\n",
    "L = f*v*dx\n",
    "\n",
    "\n",
    "class BoundaryBottom(SubDomain):\n",
    "    def inside(self, x, on_boundary):\n",
    "        return near(x[1], 0, tol)\n",
    "\n",
    "\n",
    "BoundBottom = BoundaryBottom()\n",
    "bc = DirichletBC(V, Constant(0.0), BoundBottom)\n",
    "\n",
    "xdmffile_U = XDMFFile('./Materials.xdmf')\n",
    "\n",
    "# Compute solution\n",
    "u = Function(V)\n",
    "solve(a == L, u, bc)\n",
    "xdmffile_U.write(u)"
   ]
  }
 ],
 "metadata": {
  "kernelspec": {
   "display_name": "Python 3",
   "language": "python",
   "name": "python3"
  },
  "language_info": {
   "codemirror_mode": {
    "name": "ipython",
    "version": 3
   },
   "file_extension": ".py",
   "mimetype": "text/x-python",
   "name": "python",
   "nbconvert_exporter": "python",
   "pygments_lexer": "ipython3",
   "version": "3.8.1"
  }
 },
 "nbformat": 4,
 "nbformat_minor": 4
}
