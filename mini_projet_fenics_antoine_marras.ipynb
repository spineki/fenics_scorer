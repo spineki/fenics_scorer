{
 "cells": [
  {
   "cell_type": "markdown",
   "metadata": {},
   "source": [
    "Marras Antoine 1A CentraleSupélec: P2022\n",
    "\n",
    "# MINI-PROJET FENICS: Modélisation à l'aide d'équations elliptiques\n",
    "\n",
    "## <span style=\"color:red\"> Important: ce notebook fonctionne avec des fichiers paramétriques pour générer les domaines:   Cependant la plateforme peeramid imposant un unique notebook, j'ai inclu un système de génération de fichier pour que vous puissiez charger le maillage du domaine et ainsi lancer la simulation </span>\n",
    "\n",
    "## AVANT de lire ce notebook, je vous invite à lancer la dernière cellule. Elle générera sur votre ordinateur les fichiers nécessaires aux simulations. Je vous invite aussi à placer ce notebook dans un dossier pour éviter que lesdits fichiers polluent votre espace de travail. \n",
    "\n",
    "## <span style=\"color:red\"> Il vous faudra gmsh installé sous votre ordinateur</span> avant de lancer la dernière cellule.\n",
    "    \n",
    "    sudo apt install gmsh\n",
    "\n",
    "# Bonne lecture.\n"
   ]
  },
  {
   "cell_type": "markdown",
   "metadata": {},
   "source": [
    "## Un cas particulier des équation de helmoltz: l'équation de Scorer\n",
    "\n",
    "#### Introduction:\n",
    "\n",
    "Lorsqu'un vent de direction constante soufle dans une plaine et rencontre une montagne, on remarque souvent des nuages aux formes particulières en aval tels que des nuages lenticulaires.[1]\n",
    "D'autres phénomènes similaires tels que des courants ascendants violents en aval des montagnes sont observés par les aviateurs.\n",
    "\n",
    "L'équation de Scorer modélise de telles ondes de gravité de part et d'autre des montagnes, aussi nommées __onde de Lee__, ou __onde orographiques__[2]"
   ]
  },
  {
   "cell_type": "markdown",
   "metadata": {},
   "source": [
    "## Modélisation physique:\n",
    "\n",
    "Dans le plan ($\\vec{x}$, $\\vec{z}$.) on notera $w(x,z)$ la vitesse verticale du vent en $(x,z)$s, $u_0(z)$ vitesse horizontale initiale du vent.\n",
    "\n",
    "On se placera dans l'approximation de __Boussinesq__. (hypothèse d'incompressibilité. (variations de température négligées)).[3]\n",
    "\n",
    "Le domaine est un rectangle dont la base est remplacée par un profil de montagne de hauteur $h(x)$. Aux bords, on a $w = u_0\\frac{d h}{dx}$ (au contact de la montagne, conservation de la quantité de mouvement du vent), et nul sur les autres bords.\n",
    "\n",
    "En utilisant la conservation de la quantité de mouvement, de la masse et de l'énergie dans l'approximation de Boussinesq appliquée aux équations de Navier-Stokes, on a: [3]\n",
    "\n",
    "$\\Delta w(x,z) + l(z)² w(x,z) = 0$ avec $l(z)² = \\frac{N²}{u_0²} - \\frac{1}{u_0} \\frac{d² u_0}{dz²} $ paramètre de Scorer. Ici on prendra $u_0(z)= u_0$ donc $l(z)² =l²= \\frac{N²}{u_0²}$\n",
    "\n",
    "et $N=\\sqrt{\\frac{g}{\\theta} \\frac{d \\theta}{d z}} $ fréquence de Brunt-Väisälä, environs $N_{atmos}= 0,012 s^{−1}$ dans l'atmosphère."
   ]
  },
  {
   "cell_type": "markdown",
   "metadata": {},
   "source": [
    "## Modélisation mathématique:"
   ]
  },
  {
   "cell_type": "markdown",
   "metadata": {},
   "source": [
    "### Adimensionnement:\n",
    "\n",
    "Reprenons l'équation précédente $\\Delta_x w + l² w = 0$. Elle est bien elliptique (en appliquant $b² - 4ac$, on trouve $-4 < 0$)\n",
    "\n",
    "| Quantité | Unité |  Quantités adimensionnée |\n",
    "|:--------:|:-----:|:------------------------:|\n",
    "|    $w$   |  $W$  |        $w = W w^*$       |\n",
    "|   $x,z$  |  $L$  | $x = Lx^* , z = L z^*$   |\n",
    "\n",
    "\n",
    "En précisant les dépendances spatiales du laplacien, on a $\\Delta_x = \\frac{1}{L²} \\Delta_{x^*} $\n",
    "\n",
    "On a $\\frac{W}{L²} \\Delta_{x^*} w^* + l² W w^* = 0$,\n",
    "qui devient\n",
    "$\\Delta_{x^*} w^* + (l^*)²w^* = 0$ en introduisant $l^*=Ll $\n",
    "\n",
    "Par la suite, on retirera les * par soucis de clarté.\n",
    "\n",
    "### Domaine\n",
    "Le domaine est physiquement un rectangle de largeur R, de longeur 2 * Larg dont la base est remplacée par un profil de montagne. Ici, on choisira une sorcière d'Agnesi[4] (Un profil géométrique décrivant des collines), d'équation $h(x) = height * \\frac{\\gamma³}{\\gamma² + x²}$ (sommet de paramètre $\\gamma$, de coefficient $height$).\n",
    "Le domaine est donc $\\Omega =\\{(x,z)\\in ]-a,a[\\times ]0,b[ \\; | \\; z> h(x)\\}$\n",
    "\n",
    "\n",
    "### Conditions aux bords\n",
    "On a les conditions aux bords: $\\forall (x,y) \\in \\partial \\Omega$\n",
    "\n",
    "\\begin{equation}\n",
    "  w(x,z)=\\begin{cases}\n",
    "    0, & \\text{si $x=-a$ ou $x=a$ ou $z =b$ }.\\\\\n",
    "    u_0 \\frac{dh}{dx}, & \\text{sinon}.\n",
    "  \\end{cases}\n",
    "\\end{equation}\n",
    "\n",
    "### Formulation variationnelle\n",
    "\n",
    "On choisit $v\\in \\mathcal{H}¹_0(\\Omega)$ et en supposant $w \\in H¹(\\Omega)$, on obtient la formulation faible suivante:\n",
    "$ \\int_{\\Omega} {(-\\nabla{w} \\nabla{v} + l² w v)}= 0$\n",
    "\n",
    "### Utilisation d'une variable aléatoire\n",
    "\n",
    "Le paramètre de Scorer l dépend de N, qui souffre d'une incertitude relative importante. Pour vérifier ses effets sur la modélisation (et ainsi voir si les prédictions demandent une faible incertitude sur la mesure) on la modélisera par une variable aléatoire  $N \\hookrightarrow \\mathcal{N}( N_{atmos}, 0.001)$ (valeur typique dans la littérature)[3]\n"
   ]
  },
  {
   "cell_type": "markdown",
   "metadata": {},
   "source": [
    "# Note sur les simulations\n",
    "\n",
    "Pour obtenir un profil de sorcière d'Agnesi, <span style=\"color:red\"> j'ai utilisé le logiciel gmsh, couplé à dolphin-converter </span> pour générer paramétriquement un mesh du domaine au dessus de la montagne.[5]\n",
    "<span style=\"color:red\">Le script de génération de mesh est disponible en annexe.</span>\n",
    "        La montagne peut être modifiée en changeant les valeurs de la section \"__Paramètres de la montagne d'Agnesi__\"[4], Puis en relançant le script en annexe (s'assurer d'avoir gmsh sur son ordinateur) et en relançant enfin la simulation."
   ]
  },
  {
   "cell_type": "markdown",
   "metadata": {},
   "source": [
    "### Imports:"
   ]
  },
  {
   "cell_type": "code",
   "execution_count": null,
   "metadata": {},
   "outputs": [],
   "source": [
    "from fenics import *\n",
    "import numpy as np\n",
    "import matplotlib.pyplot as plt\n",
    "from matplotlib import pyplot as pyplot\n",
    "from mshr import *\n",
    "import dolfin as fn"
   ]
  },
  {
   "cell_type": "markdown",
   "metadata": {},
   "source": [
    "### Paramètres de la montagne D'Agnesi:"
   ]
  },
  {
   "cell_type": "code",
   "execution_count": null,
   "metadata": {},
   "outputs": [],
   "source": [
    "gamma = 1000    # paramètre de hauteur de la montagne\n",
    "height = 2.0    # coefficient multiplicateur pour rendre plus abrubte la montagne\n",
    "R = 10000.0     # ordonnée du bord supérieur du domaine.\n",
    "Larg = 10000    # demie-largeur montagne: __/\\__ (Larg correspond à __/)\n",
    "nb_point_mesh = 500 # finesse du maillage"
   ]
  },
  {
   "cell_type": "markdown",
   "metadata": {},
   "source": [
    "## Code Fenics"
   ]
  },
  {
   "cell_type": "code",
   "execution_count": null,
   "metadata": {},
   "outputs": [],
   "source": [
    "def get_geometry(path_to_mesh_xml = 'generated_mesh.xml', path_to_physical_region_xml = 'generated_mesh_physical_region.xml'):\n",
    "    \"\"\"Récupère la géométrie du domaine généré paramétriquement\"\"\"\n",
    "    \n",
    "    mesh = fn.Mesh(path_to_mesh_xml)\n",
    "    markers = fn.MeshFunction(\"size_t\", mesh, path_to_physical_region_xml)\n",
    "    dx = fn.Measure('dx', domain=mesh, subdomain_data=markers)\n",
    "    V = FunctionSpace(mesh, 'P', 1)\n",
    "    \n",
    "    return mesh, markers, dx, V\n",
    "\n",
    "\n",
    "def simulation(u_0, N, mesh, dx, V, epsi=10**(-6), plot_w = 15, plot_h = 8):\n",
    "    \"\"\"\n",
    "    u_0:  vitesse horizontale initiale du vent en amont de la montagne\n",
    "    N:    fréquence de fréquence de Brunt-Väisälä\n",
    "    mesh: le mesh sur lequel s'execute la simulation\n",
    "    dx:   Les pas de discrétisation du mesh\n",
    "    V:    l'espace fonctionnel asocié au mesh\n",
    "    epsi: precision demandée pour éviter les erreurs d'égalité de flottants\n",
    "    plot_w: largeur des plot,en pouce\n",
    "    plot_h: hauteur des plot, en pouce\n",
    "    \"\"\"\n",
    "    \n",
    "    l=N/u_0\n",
    "\n",
    "    # -----------------------------------------------------------------------------------------------------------------\n",
    "    # Conditions aux bords\n",
    "    # Nullité sur tout le bord, sauf sur la montagne\n",
    "    # on prend la formule de la pente de la montagne, calculable grâce à la formule explicite de la sorcière d'Agnesi\n",
    "    w_D = Expression('abs(x[0]-Larg)<epsi or abs(x[0]+Larg)<epsi? 0:   x[1]>gamma*height? 0 : -2*u_0*height*gamma*gamma*x[0]/(pow( (x[0]*x[0]+ gamma*gamma) ,2))',\n",
    "                     degree = 6,\n",
    "                     gamma = gamma, height=height, epsi = epsi, Larg=Larg, u_0 = u_0)\n",
    "\n",
    "    def boundary(x, on_boundary):\n",
    "        return on_boundary\n",
    "\n",
    "    bc = DirichletBC(V, w_D, boundary)\n",
    "    \n",
    "    # -----------------------------------------------------------------------------------------------------------------\n",
    "    # Problème variationnel\n",
    "    w = TrialFunction(V)\n",
    "    v = TestFunction(V)\n",
    "    f = Constant(0.0)\n",
    "    cte = Constant(l)\n",
    "    a = - dot(grad(w), grad(v))*dx + cte*cte*w*v*dx\n",
    "    L = f*v*dx # 0 obligé de passer par cette astuce pour que l logiciel l'interprète comme un problème linéaire\n",
    "    # -----------------------------------------------------------------------------------------------------------------\n",
    "\n",
    "    # Calcul de la solution\n",
    "    w = Function(V)\n",
    "    solve(a == L, w, bc)\n",
    "    # -----------------------------------------------------------------------------------------------------------------\n",
    "\n",
    "    # Affichage\n",
    "    plt.rcParams['figure.figsize'] = [plot_w, plot_h] # Pour avour une image plus grande\n",
    "    # plot(mesh) # affichage du mesh sur la figure (peut être commenté)\n",
    "    p = plot(w, cmap = \"RdBu_r\") # RdBu\n",
    "    plt.title( \"Vitesse verticale du vent avec les\" +\"conditions initiales: $u_0 =$ \" + str(u_0) + \". $N=$\" + str(N))\n",
    "    plt.xlabel(\"x (adimensionné)\")\n",
    "    plt.ylabel(\"z (adimensionné)\")\n",
    "    cb = pyplot.colorbar(p)# ajout d'une barre colorée\n",
    "    cb.set_label(\"Vitesse verticale du vent (adimensionnée)\")\n",
    "    plt.show()"
   ]
  },
  {
   "cell_type": "markdown",
   "metadata": {},
   "source": [
    "## Simulation"
   ]
  },
  {
   "cell_type": "code",
   "execution_count": null,
   "metadata": {},
   "outputs": [],
   "source": [
    "# Variables et paramètres nécessaires pour la simulation\n",
    "\n",
    "seed = 2022\n",
    "np.random.seed(seed) # On ajoute une seed pour rendre la simulation reproductible.\n",
    "\n",
    "# paramètres de référence pour N\n",
    "N_atm = 0.012\n",
    "sigma = 0.001\n",
    "\n",
    "# vent horizontal initial ici supposé uniforme\n",
    "u_0 = 4.4       \n",
    "\n",
    "# récupération de la géométrie ------------------------------------------------------------------------------------\n",
    "mesh, markers, dx, V = get_geometry() # Le charger ici evite de charger et contruire le domaine à chaque appel\n",
    "\n",
    "\n",
    "# Affichage du mesh utilisé ---------------------------------------------------------------------------------------\n",
    "\n",
    "print(\"Si le maillage comporte beaucoup de points, vous risquez de ne voir qu'une image grise.\\nSi vous baissez le nombre de point, vous verrez de nouveau le maillage.\")\n",
    "\n",
    "plt.clf()\n",
    "plt.rcParams['figure.figsize'] = [15, 10]\n",
    "plt.title(\"Mesh utilisé. Géométrie: $\\gamma =$ \" + str(gamma) + \", $h=$\" + str(height) + \", $hauteur=$\" + str(R) + \", demie Largeur=\" + str(Larg) + \", maillage: \" + str(nb_point_mesh))\n",
    "plt.xlabel(\"x (adimensionné)\")\n",
    "plt.ylabel(\"z (adimensionné)\")\n",
    "plot(mesh)\n",
    "\n",
    "plt.show()"
   ]
  },
  {
   "cell_type": "markdown",
   "metadata": {},
   "source": [
    "###  Simulation Avec N constant (à N_atm), mais à u_0 variable\n",
    " - But: Voir l'effet de la vitesse du vent sur les motifs de Scorer"
   ]
  },
  {
   "cell_type": "code",
   "execution_count": null,
   "metadata": {
    "scrolled": false
   },
   "outputs": [],
   "source": [
    "u_min = 1  # m.s-1\n",
    "u_max = 30 # m.s-1\n",
    "nb_simulation = 5\n",
    "u_list = np.linspace(u_min,u_max, nb_simulation)\n",
    "for u in u_list:\n",
    "    simulation(u_0=u, N=N_atm, mesh=mesh, dx=dx, V=V)"
   ]
  },
  {
   "cell_type": "markdown",
   "metadata": {},
   "source": [
    "### A vitesse constante, mais avec N suivant une loi normale\n",
    "- But: Voir l'effet de la variable aléatoire N"
   ]
  },
  {
   "cell_type": "code",
   "execution_count": null,
   "metadata": {
    "scrolled": false
   },
   "outputs": [],
   "source": [
    "nb_simulation = 5\n",
    "N_list = np.random.normal(N_atm, sigma, nb_simulation)\n",
    "for N in N_list:\n",
    "    simulation(u_0=u_0, N=N, mesh=mesh, dx=dx, V=V)\n"
   ]
  },
  {
   "cell_type": "markdown",
   "metadata": {},
   "source": [
    "_Notes: les descriptions ci-dessous numérotent les simulations obtenues. Si vous avez modifiés des paramètres, veuillez relancer la cellule contenant la seed et relancer les simulations pour revenir au valeur d'origine pour que les descriptions correspondent._"
   ]
  },
  {
   "cell_type": "markdown",
   "metadata": {},
   "source": [
    "## Descriptions de simulations"
   ]
  },
  {
   "cell_type": "markdown",
   "metadata": {},
   "source": [
    "La simulation fait apparaître des motifs ascendants, descendants des masses d'air en amont et en aval. On remarque une antisymétrie axiale amont-aval des perturbations. Les zones d'air ascendant (rouges) en amont ont en symétrique des zones d'air descendant bleu en aval, et réciproquement.\n",
    "\n",
    "L'étude de l'effet de la vitesse initiale pour un N fixe montre 3 régime caractéristiques:\n",
    "\n",
    "- A basse vitesse ($<8m.s^{-1}$), l'air est parcouru de faibles perturbations formant des alternances créant des ondelettes morcellées dont les lignes d'onde peuvent reproduire le profil de la montagne (on pourra regarder le profil de la montagne qui apparait en alternance sur les différentes couches.)\n",
    "\n",
    "- A plus haute vitesse ($ 8<u_0<25 m.s^{-1}$), les motifs fusionnent et forment des zones convexes plus grandes formant ainsi des vortex.  \n",
    "\n",
    "- Enfin à très haute vitesse ( $ u_0 > 25 m.s^{-1}$), le phénomène de vortex cesse. On retrouve le cas classique d'un vent enveloppant une montagne, sans la formation d'onde de gravité.\n",
    "\n",
    "L'étude de l'impact de N (variable aléatoire) à $u_0$ fixe (au $1^{er}$ régime) montre la forte instabilité des motifs en fonction du paramètre N. Différents motifs apparaissent pour une variation de 0.001 (!) tels que des colonnes (3ème image, 2ème simulation), des doubles profils de montagnes (1, 2), etc"
   ]
  },
  {
   "cell_type": "markdown",
   "metadata": {},
   "source": [
    "## Conclusion: "
   ]
  },
  {
   "cell_type": "markdown",
   "metadata": {},
   "source": [
    "L'étude des équations de Scorer a permis d'illustrer différents phénomènes observés empiriquement en aval des montagnes.\n",
    "\n",
    "La simulation, en permettant de faire varier le paramètre de vitesse du vent, montre l'apparition de __motifs morcellés à basse vitesse__, pouvant provoquer des \"cisaillements \" (alternance haut-bas) et causant l'apparition de nuages particuliers, ou pouvant provoquer l'instabilité des véhicules volants (parapente, avion...). La simulation permet de __quantifier les maxima de variations__ et de pouvoir donner des __ordres de grandeurs__ de sécurité à respecter.\n",
    "\n",
    "Elle montre aussi que des vortex peuvent apparaître lorsque le vent se renforce. L'intérêt de la simulation est de pouvoir quantifier un __seuil__ d'apparition de ces phénomène de vortex et de prévoir le retour à un simple \"vent enveloppant\" sans vortex.\n",
    "\n",
    "Cependant, __l'ajout d'une variable aléatoire__ modélisant N montre que la forme des motifs est très sensible aux valeurs N. Le choix d'une gaussienne, maximisant l'entropie à variance fixée, nous place dans le cas le plus général possible et justifie l'importance du résultat précédent sur la sensibilité.\n",
    "\n",
    "Il n'est donc __pas possible de prédir de façon réaliste les motifs__ apparaissant, par exemple pour prévenir un aviateur, mais il est possible de dégager des régimes types pour pouvoir planifier un survol de la montagne. \n",
    "\n",
    "La simulation utilise une __sorcière d'Agnesi__ comme profil type de montagne. Les sorcières d'Agnesi sont efficaces pour représenter des collines (profil peu bombé). Mais le facteur de dilatation permet d'étirer la montagne et __rendre utilisables__ les résultats précédents sur des profils de montagne plus pentus. \n",
    "\n",
    "La simulation peut encore être affinée, notamment avec d'autres types de profils (gaussien, en aiguille) et le choix d'un vent horizontal ($u_0$) variable en fonction de l'altitude. (Le cas constant est une hypothèse simplificatrice très forte).\n",
    "\n"
   ]
  },
  {
   "cell_type": "markdown",
   "metadata": {},
   "source": [
    "# Sources:\n",
    "\n",
    "1) __Onde orographique et nuages lenticulaires__: Meriem Chakroun. La variabilité des nuages et son rôle sur le climat en Europe : télédétection\n",
    "et simulation régionale. Océan, Atmosphère. Université Paris-Saclay, 2016. Français. �NNT :\n",
    "2016SACLV067�. �tel-01599247�: page 10.\n",
    "\n",
    "2) __Données et ordres de grandeurs, méthodes des ondes orographiques__ Encyclopedia of Atmospheric Sciences, 2003, Holton, J.R., J. Pyle and J.A. Curry,eds., Elsevier Science Ltd. pp. 1161-1169\n",
    "\n",
    "3) __Conditions aux limites__: Theory of airflow over mountains : I11 - Airstream characteristicsBy R. S. SCORER Imperial College, London\n",
    "\n",
    "4) Sorcière d'Agnesi: http://jwilson.coe.uga.edu/Texts.Folder/Agnesi/witch.html, University of Georgia\n",
    "\n",
    "5) __Utilisation de Fenics, Gmsh et dolphin-converter__: https://comphysblog.wordpress.com/2018/08/15/fenics-2d-electrostatics-with-imported-mesh-and-boundaries/\n",
    "\n",
    "\n"
   ]
  },
  {
   "cell_type": "markdown",
   "metadata": {},
   "source": [
    "# La cellule à lancer avant toute simulation! Attendre l'apparition de done!\n",
    "\n",
    "## Annexe\n",
    "\n",
    "Template de code GMH Pour générer automatiquement la montagne <span style=\"color:red\"> Si vous possédez gmsh </span>\n",
    "\n",
    "3 parties: La première partie est un template à trou. Il est complété par les valeurs entrées dans la cell \"Paramètre de la montagne d'Angnesi\", puis envoyé grâce à un subprocess dans deux convertisseurs. Un mesher gmsh et un convertisseur dolfin-converter.\n"
   ]
  },
  {
   "cell_type": "code",
   "execution_count": null,
   "metadata": {},
   "outputs": [],
   "source": [
    "import os\n",
    "\n",
    "template = \"\"\"\n",
    "ls = 5;\n",
    "nombre_points_courbe = {0};\n",
    "ratio = 1000.0; // pour convertir les mètres en kilomètres\n",
    "\n",
    "L = {1};   // um\n",
    "R = {2};   // hauteur du bord supérieur du domaine\n",
    "a = {3};   // paramètre gamma de la montagne\n",
    "h = {4};\n",
    "Point(1) = {{-L, R, 0, ls}};\n",
    "Point(2) = {{-L, 0, 0, ls}};\n",
    "Point(3) = {{L, 0, 0, ls}};\n",
    "Point(4) = {{L, R, 0, ls}};\n",
    "\n",
    "Line(1) = {{1, 2}};\n",
    "Line(2) = {{3, 4}};\n",
    "Line(3) = {{4, 1}};\n",
    "\n",
    "pList[0] = 2; // First point label\n",
    "nPoints = nombre_points_courbe; // Nombre de points de discretisation pour la sorcière\n",
    "For i In {{1 : nPoints}}\n",
    "\tx =-L + 2*L*i/(nPoints + 1);\n",
    "\tpList[i] = newp;\n",
    "\tPoint(pList[i]) = {{x, (  h * (a * a * a)/(x*x + a*a) ) , 0, ls}};\n",
    "EndFor\n",
    "pList[nPoints+1] = 3; // Last point label (top-left point of the outlet region)\n",
    "\n",
    "Spline(6) = pList[];\n",
    "Line Loop(7) = {{1,6,2,3}};\n",
    "Plane Surface(7) = {{7}};\n",
    "Physical Surface(\"surf\") = {{7}};\n",
    "Transfinite Line {{6, 1, 3, 2}} = {5} Using Progression 1;\n",
    "\n",
    "\"\"\"\n",
    "\n",
    "\n",
    "script_msh = template.format(1000, Larg, R, gamma, height, nb_point_mesh) # nombre point courbe, L, R, a, h\n",
    "print(script_msh)\n",
    "\n",
    "with open(\"script.geo\", \"w+\", encoding = \"utf-8\") as f:\n",
    "    for ligne in script_msh:\n",
    "        f.write(ligne)\n",
    "\n",
    "# generate msh file\n",
    "print(\"meshing...\")\n",
    "stream = os.popen(\"gmsh script.geo -2 -o ./generated_mesh.msh\")\n",
    "out = stream.read()\n",
    "print(out)\n",
    "\n",
    "print(\"convertion to xml\")\n",
    "# generate xml file\n",
    "stream2 = os.popen(\"dolfin-convert generated_mesh.msh generated_mesh.xml\")\n",
    "out2 = stream.read()\n",
    "print(out2)\n",
    "print(\"done!!\")"
   ]
  }
 ],
 "metadata": {
  "kernelspec": {
   "display_name": "Python 3",
   "language": "python",
   "name": "python3"
  },
  "language_info": {
   "codemirror_mode": {
    "name": "ipython",
    "version": 3
   },
   "file_extension": ".py",
   "mimetype": "text/x-python",
   "name": "python",
   "nbconvert_exporter": "python",
   "pygments_lexer": "ipython3",
   "version": "3.6.9"
  }
 },
 "nbformat": 4,
 "nbformat_minor": 4
}
