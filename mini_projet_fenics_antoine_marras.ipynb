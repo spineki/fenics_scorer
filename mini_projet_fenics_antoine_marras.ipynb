{
 "cells": [
  {
   "cell_type": "markdown",
   "metadata": {},
   "source": [
    "Marras Antoine 1A CentraleSupélec: P2022\n",
    "\n",
    "# MINI-PROJET FENICS: Modélisation à l'aide d'équations elliptiques\n",
    "## Un cas particulier des équation de helmoltz: l'équation de Scorer\n",
    "\n",
    "#### Introduction:\n",
    "\n",
    "Lorsqu'un vent de direction constante soufle dans une plaine et rencontre une montagne, on remarque souvent des nuages aux formes particulières en aval tels que des nuages lenticulaires.[meriem chekroum]\n",
    "D'autres phénomènes similaires tels que des courants ascendants violents en aval des montagnes sont observés par les aviateurs.\n",
    "\n",
    "L'équation de Scorer modélise de telles ondes de gravité en aval des montagnes, aussi nommées __onde de Lee__, ou __onde orographiques__"
   ]
  },
  {
   "cell_type": "markdown",
   "metadata": {},
   "source": [
    "## Modélisation physique:\n",
    "\n",
    "Dans le plan ($\\vec{x}$, $\\vec{z}$.) on notera w(x,z) la vitesse verticale du vent en (x,z), $u_0(z)$ vitesse horizontale initiale du vent.\n",
    "\n",
    "On se placera dans l'approximation de Boussinesq. (hypothèse d'incompressibilité. (variation de température négligées)).\n",
    "\n",
    "le domaine est un rectangle dont la base est remplacée par un profil de montagne de hauteur $h(x)$. Aux bords, on a $w = u_0\\frac{d h}{dx}$ (au contact de la montagne, conservation de la quantité de mouvement), et nul sur les autres bords.\n",
    "\n",
    "En utilisant la conservation de la quantité de mouvement, de la masse et de l'énergie dans l'approximation de Boussinesq appliquée aux équations de Navier-Stokes, on a:\n",
    "\n",
    "$\\Delta w(x,z) + l(z)² w(x,z) = 0$ avec $l(z)² = \\frac{N²}{u_0²} - \\frac{1}{u_0} \\frac{d² u_0}{dz²} $ paramètre de Scorer\n",
    "\n",
    "et $N=\\sqrt{\\frac{g}{\\theta} \\frac{d \\theta}{d z}} $ fréquence de Brunt-Väisälä, environs $0,012 s^{−1}$ dans l'atmosphère."
   ]
  },
  {
   "cell_type": "markdown",
   "metadata": {},
   "source": [
    "## Modélisation mathématique:\n",
    "\n",
    "### Adimensionnement:\n",
    "\n",
    "Reprenons l'équation précédente $\\Delta_x w + l² w = 0$. Elle est bien elliptique (en appliquant $b² - 4ac$, on trouve -4 < 0)\n",
    "\n",
    "| Quantité | Unité |  Quantités adimensionnée |\n",
    "|:--------:|:-----:|:------------------------:|\n",
    "|    $w$   |  $W$  |        $w = W w^*$       |\n",
    "|   $x,z$  |  $L$  | $x = Lx^* , z = L z^*$   |\n",
    "\n",
    "\n",
    "En précisant les dépendances spatiales du laplacien, on a $\\Delta_x = \\frac{1}{L²} \\Delta_{x^*} $\n",
    "\n",
    "On a $\\frac{W}{L²} \\Delta_{x^*} w^* + l² W w^* = 0$,\n",
    "qui devient\n",
    "$\\Delta_{x^*} w^* + (\\frac{l}{k})²w^* = 0$ en introduisant $k=\\frac{1}{l}$, en $L^{-1}$\n",
    "\n",
    "Par la suite, on retirera les * par soucis de clareté.\n",
    "\n",
    "### Domaine\n",
    "Le domaine est physiquement un rectangle de largeur b, de longeur 2a dont la base est remplacée par un profil de montagne. Ici, on choisira une sorcière d'Agnesi, d'équation $h(x) = \\frac{\\gamma³}{\\gamma² + x²}$ (sommet de hauteur $\\gamma$).\n",
    "Le domaine est donc $\\Omega =\\{(x,z)\\in ]-a,a[\\times ]0,b[ \\; | \\; z> h(x)\\}$\n",
    "\n",
    "\n",
    "### Conditions aux bords\n",
    "On a les conditions aux bords: $\\forall (x,y) \\in \\partial \\Omega$\n",
    "\n",
    "\\begin{equation}\n",
    "  w(x,z)=\\begin{cases}\n",
    "    0, & \\text{si $x=-a$ ou $x=a$ ou $z =b$ }.\\\\\n",
    "    u_0 \\frac{dh}{dx}, & \\text{sinon}.\n",
    "  \\end{cases}\n",
    "\\end{equation}\n",
    "\n",
    "### Relèvement\n",
    "On relève les conditions aux bords en posant $w = \\tilde{w} + w_0$ avec $w_0$ une solution particulière répondant aux conditions aux bords précédentes.\n",
    "\n",
    "### Formulation variationnelle\n",
    "\n",
    "On choisit $v\\in \\mathcal{D}(\\Omega)$ et en supposant $\\tilde{w} \\in H¹_0(\\Omega)$, on obtient la formulation faible suivante:\n",
    "$\\int_{\\Omega}{l² \\tilde{w} v -  \\nabla{\\tilde{w}} \\nabla{v}} = \\int_{\\Omega}{\\nabla{w_0} \\nabla{v} - l² w_0 v}$\n",
    "\n"
   ]
  },
  {
   "cell_type": "markdown",
   "metadata": {},
   "source": [
    "## Simulations\n",
    "\n",
    "Notes: Pour obtenir un profil de sorcière d'agnesi, <span style=\"color:red\"> j'ai utilisé le logiciel gmsh, couplé à dolphin-converter </span> pour générer paramétriquement un mesh du domaine au dessus de la montagne.\n",
    "<span style=\"color:red\">Le script de génération de mesh est disponible en annexe.</span>"
   ]
  },
  {
   "cell_type": "markdown",
   "metadata": {},
   "source": [
    "### Imports:"
   ]
  },
  {
   "cell_type": "code",
   "execution_count": 3,
   "metadata": {},
   "outputs": [],
   "source": [
    "from fenics import *\n",
    "import numpy as np\n",
    "import matplotlib.pyplot as plt\n",
    "from matplotlib import pyplot as pyplot\n",
    "from mshr import *\n",
    "import dolfin as fn"
   ]
  },
  {
   "cell_type": "markdown",
   "metadata": {},
   "source": [
    "### Paramètres de la montagne D'Agnesi:"
   ]
  },
  {
   "cell_type": "code",
   "execution_count": 4,
   "metadata": {},
   "outputs": [],
   "source": [
    "gamma = 30    # paramètre de hauteur de la montagne\n",
    "height = 1.0  # coefficient multiplicateur pour rendre plus abrubte la montagne\n",
    "R = 1.0       # ordonnée du bord supérieur du domaine.\n",
    "u_0 = 1.0     # vent horizontal initial ici supposé uniforme\n",
    "Larg = 100    # largeur medium montagne (larg-Sommet-larg)\n",
    "epsi = 10**-6 # precision demandée pour éviter les erreurs d'égalité de flottants"
   ]
  },
  {
   "cell_type": "code",
   "execution_count": 61,
   "metadata": {},
   "outputs": [
    {
     "data": {
      "image/png": "[encoded data removed]",
      "text/plain": [
       "<Figure size 432x288 with 2 Axes>"
      ]
     },
     "metadata": {
      "needs_background": "light"
     },
     "output_type": "display_data"
    }
   ],
   "source": [
    "\n",
    "# Import du mesh du doa\n",
    "mesh = fn.Mesh('generated_mesh.xml') # fn.Mesh('inv.xml')\n",
    "markers = fn.MeshFunction(\"size_t\", mesh, 'inv_physical_region.xml')\n",
    "dx = fn.Measure('dx', domain=mesh, subdomain_data=markers)\n",
    "V = FunctionSpace(mesh, 'P', 1)\n",
    "\n",
    "# -----------------------------------------------------------------------------------------------------------------\n",
    "\n",
    "# Conditions aux bords\n",
    "# Nullité sur tout le bord, sauf sur la montagne\n",
    "# on prend la formule de la pente de la montagne, calculable grâce à la formule explicite de la sorcière d'Agnesi\n",
    "u_D = Expression('abs(x[0]-Larg)<epsi or abs(x[0]+Larg)<epsi? 0:   x[1]>gamma*height? 0 : -2*height*gamma*gamma*x[0]/(pow( (x[0]*x[0]+ gamma*gamma) ,2))',\n",
    "                 degree = 3,\n",
    "                 gamma = gamma, height=height, epsi = epsi, Larg=Larg)\n",
    "\n",
    "def boundary(x, on_boundary):\n",
    "    return on_boundary\n",
    "\n",
    "bc = DirichletBC(V, u_D, boundary)\n",
    "# -----------------------------------------------------------------------------------------------------------------\n",
    "\n",
    "# Problème variationnel\n",
    "u = TrialFunction(V)\n",
    "v = TestFunction(V)\n",
    "f = Constant(0.0)\n",
    "cte = Constant(0.000001) #vitesse horizontale ~ 4.4m/s, et fréquence N ~ 0.012s-1 -> 0.002727 ?\n",
    "a = - dot(grad(u), grad(v))*dx + cte*cte*u*v*dx\n",
    "L = f*v*dx # 0\n",
    "# -----------------------------------------------------------------------------------------------------------------\n",
    "\n",
    "# Calcul de la solution\n",
    "u = Function(V)\n",
    "solve(a == L, u, bc)\n",
    "# -----------------------------------------------------------------------------------------------------------------\n",
    "\n",
    "# Affichage\n",
    "# plot(mesh) # affichage du mesh sur la figure (peut être commenté)\n",
    "p = plot(u)\n",
    "pyplot.colorbar(p)# ajout d'une barre colorée\n",
    "\n",
    "plt.show()\n"
   ]
  },
  {
   "cell_type": "markdown",
   "metadata": {},
   "source": [
    "## Descriptions de simulations 10 lignes"
   ]
  },
  {
   "cell_type": "markdown",
   "metadata": {},
   "source": [
    "## 15 lignes maximum de conclusion sur l’utilité de ces simulations en insistant sur laprise en compte du caractère aléatoire,"
   ]
  },
  {
   "cell_type": "markdown",
   "metadata": {},
   "source": [
    "# Sources:\n",
    "\n",
    "__onde orographique et nuages lenticulaires__: Meriem Chakroun. La variabilité des nuages et son rôle sur le climat en Europe : télédétection\n",
    "et simulation régionale. Océan, Atmosphère. Université Paris-Saclay, 2016. Français. �NNT :\n",
    "2016SACLV067�. �tel-01599247�: page 10.\n",
    "\n",
    "Encyclopedia of Atmospheric Sciences, 2003, Holton, J.R., J. Pyle and J.A. Curry,eds., Elsevier Science Ltd. pp. 1161-1169\n",
    "\n",
    "__Conditions aux limites__: Theory of airflow over mountains : I11 - Airstream characteristicsBy R. S. SCORER Imperial College, London\n",
    "\n",
    "__utilisation de Fenics, Gmsh et dolphin-converter__: https://comphysblog.wordpress.com/2018/08/15/fenics-2d-electrostatics-with-imported-mesh-and-boundaries/\n",
    "\n",
    "\n"
   ]
  },
  {
   "cell_type": "markdown",
   "metadata": {},
   "source": [
    "## Annexe\n",
    "\n",
    "Template de code GMH. Il faut ajouter un .format() pour remplacer les valeurs importantes\n"
   ]
  },
  {
   "cell_type": "code",
   "execution_count": 62,
   "metadata": {},
   "outputs": [
    {
     "name": "stdout",
     "output_type": "stream",
     "text": [
      "\n",
      "ls = 5;\n",
      "nombre_points_courbe = 50;\n",
      "ratio = 1000.0; // pour convertir les mètres en kilomètres\n",
      "\n",
      "L = 10000.0 / ratio; // um\n",
      "R = 10000.0 / ratio;   // hauteur du bord supérieur du domaine\n",
      "a = 1000.0 / ratio;\n",
      "h = 1.0;\n",
      "Point(1) = {-L, R, 0, ls};\n",
      "Point(2) = {-L, 0, 0, ls};\n",
      "Point(3) = {L, 0, 0, ls};\n",
      "Point(4) = {L, R, 0, ls};\n",
      "\n",
      "Line(1) = {1, 2};\n",
      "Line(2) = {3, 4};\n",
      "Line(3) = {4, 1};\n",
      "\n",
      "pList[0] = 2; // First point label\n",
      "nPoints = nombre_points_courbe; // Nombre de points de discretisation pour la sorcière\n",
      "For i In {1 : nPoints}\n",
      "\tx =-L + 2*L*i/(nPoints + 1);\n",
      "\tpList[i] = newp;\n",
      "\tPoint(pList[i]) = {x, (  h * (a * a * a)/(x*x + a*a) ) , 0, ls};\n",
      "EndFor\n",
      "pList[nPoints+1] = 3; // Last point label (top-left point of the outlet region)\n",
      "\n",
      "Spline(6) = pList[];\n",
      "Line Loop(7) = {1,6,2,3};\n",
      "Plane Surface(7) = {7};\n",
      "Physical Surface(\"surf\") = {7};\n",
      "Transfinite Line {6, 1, 3, 2} = 50 Using Progression 1;\n",
      "\n",
      "\n",
      "meshing...\n",
      "Info    : Running 'gmsh script.geo -2 -o ./generated_mesh.msh' [Gmsh 3.0.6, 1 node, max. 1 thread]\n",
      "Info    : Started on Thu Apr  2 13:39:57 2020\n",
      "Info    : Reading 'script.geo'...\n",
      "Info    : Done reading 'script.geo'\n",
      "Info    : Finalized high order topology of periodic connections\n",
      "Info    : Meshing 1D...\n",
      "Info    : Meshing curve 1 (Line)\n",
      "Info    : Meshing curve 2 (Line)\n",
      "Info    : Meshing curve 3 (Line)\n",
      "Info    : Meshing curve 6 (Nurb)\n",
      "Info    : Done meshing 1D (0.000186 s)\n",
      "Info    : Meshing 2D...\n",
      "Info    : Meshing surface 7 (Plane, Delaunay)\n",
      "Info    : Done meshing 2D (0.008557 s)\n",
      "Info    : 332 vertices 616 elements\n",
      "Info    : Writing './generated_mesh.msh'...\n",
      "Info    : Done writing './generated_mesh.msh'\n",
      "Info    : Stopped on Thu Apr  2 13:39:57 2020\n",
      "\n",
      "convertion to xml\n",
      "\n",
      "done!!\n"
     ]
    }
   ],
   "source": [
    "import os\n",
    "\n",
    "template = \"\"\"\n",
    "ls = 5;\n",
    "nombre_points_courbe = {0};\n",
    "ratio = 1000.0; // pour convertir les mètres en kilomètres\n",
    "\n",
    "L = {1} / ratio; // um\n",
    "R = {2} / ratio;   // hauteur du bord supérieur du domaine\n",
    "a = {3} / ratio;\n",
    "h = {4};\n",
    "Point(1) = {{-L, R, 0, ls}};\n",
    "Point(2) = {{-L, 0, 0, ls}};\n",
    "Point(3) = {{L, 0, 0, ls}};\n",
    "Point(4) = {{L, R, 0, ls}};\n",
    "\n",
    "Line(1) = {{1, 2}};\n",
    "Line(2) = {{3, 4}};\n",
    "Line(3) = {{4, 1}};\n",
    "\n",
    "pList[0] = 2; // First point label\n",
    "nPoints = nombre_points_courbe; // Nombre de points de discretisation pour la sorcière\n",
    "For i In {{1 : nPoints}}\n",
    "\tx =-L + 2*L*i/(nPoints + 1);\n",
    "\tpList[i] = newp;\n",
    "\tPoint(pList[i]) = {{x, (  h * (a * a * a)/(x*x + a*a) ) , 0, ls}};\n",
    "EndFor\n",
    "pList[nPoints+1] = 3; // Last point label (top-left point of the outlet region)\n",
    "\n",
    "Spline(6) = pList[];\n",
    "Line Loop(7) = {{1,6,2,3}};\n",
    "Plane Surface(7) = {{7}};\n",
    "Physical Surface(\"surf\") = {{7}};\n",
    "Transfinite Line {{6, 1, 3, 2}} = 50 Using Progression 1;\n",
    "\n",
    "\"\"\"\n",
    "print(script_msh)\n",
    "\n",
    "script_msh = template.format(50, Larg, 10000.0, 1000.0, 1.0) # nombre point courbe, L, R, a, h\n",
    "\n",
    "with open(\"script.geo\", \"w+\", encoding = \"utf-8\") as f:\n",
    "    for ligne in script_msh:\n",
    "        f.write(ligne)\n",
    "\n",
    "# generate msh file\n",
    "print(\"meshing...\")\n",
    "stream = os.popen(\"gmsh script.geo -2 -o ./generated_mesh.msh\")\n",
    "out = stream.read()\n",
    "print(out)\n",
    "\n",
    "print(\"convertion to xml\")\n",
    "# generate xml file\n",
    "stream2 = os.popen(\"dolfin-convert generated_mesh.msh generated_mesh.xml\")\n",
    "out2 = stream.read()\n",
    "print(out2)\n",
    "print(\"done!!\")\n",
    "\n"
   ]
  },
  {
   "cell_type": "code",
   "execution_count": null,
   "metadata": {},
   "outputs": [],
   "source": []
  }
 ],
 "metadata": {
  "kernelspec": {
   "display_name": "Python 3",
   "language": "python",
   "name": "python3"
  },
  "language_info": {
   "codemirror_mode": {
    "name": "ipython",
    "version": 3
   },
   "file_extension": ".py",
   "mimetype": "text/x-python",
   "name": "python",
   "nbconvert_exporter": "python",
   "pygments_lexer": "ipython3",
   "version": "3.6.9"
  }
 },
 "nbformat": 4,
 "nbformat_minor": 4
}
